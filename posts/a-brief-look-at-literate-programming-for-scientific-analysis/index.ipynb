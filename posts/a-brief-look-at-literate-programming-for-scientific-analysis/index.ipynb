{
 "cells": [
  {
   "cell_type": "markdown",
   "metadata": {
    "ein.tags": "worksheet-0",
    "slideshow": {
     "slide_type": "-"
    }
   },
   "source": [
    "Literate Programming is one of my favourite concepts,\n",
    "it fits beautifuly into scientific research.\n",
    "\n",
    "It allows for \"friendly\" code that removes the need for formal\n",
    "documentation and allows for more relaxed, human-readable code.\n"
   ]
  },
  {
   "cell_type": "markdown",
   "metadata": {
    "ein.tags": "worksheet-0",
    "slideshow": {
     "slide_type": "-"
    }
   },
   "source": [
    "Here we can state all of the libraries that we use"
   ]
  },
  {
   "cell_type": "code",
   "execution_count": 1,
   "metadata": {
    "autoscroll": false,
    "collapsed": false,
    "ein.hycell": false,
    "ein.tags": "worksheet-0",
    "slideshow": {
     "slide_type": "-"
    }
   },
   "outputs": [],
   "source": [
    "%matplotlib inline\n",
    "import pandas as pd\n",
    "import numpy as np\n",
    "import matplotlib.pyplot as plt\n",
    "import seaborn as sns\n",
    "from scipy import stats"
   ]
  },
  {
   "cell_type": "markdown",
   "metadata": {
    "ein.tags": "worksheet-0",
    "slideshow": {
     "slide_type": "-"
    }
   },
   "source": [
    "Now ,I'm fussy so I like to use seaborn for all styling"
   ]
  },
  {
   "cell_type": "code",
   "execution_count": 2,
   "metadata": {
    "autoscroll": false,
    "collapsed": false,
    "ein.hycell": false,
    "ein.tags": "worksheet-0",
    "slideshow": {
     "slide_type": "-"
    }
   },
   "outputs": [],
   "source": [
    "sns.set()"
   ]
  },
  {
   "cell_type": "markdown",
   "metadata": {
    "ein.tags": "worksheet-0",
    "slideshow": {
     "slide_type": "-"
    }
   },
   "source": [
    "Next we want to load up the iris data set and have a look at the data.\n",
    "Specifically a few random rows, so we know what we're working with! "
   ]
  },
  {
   "cell_type": "code",
   "execution_count": 3,
   "metadata": {
    "autoscroll": false,
    "collapsed": false,
    "ein.hycell": false,
    "ein.tags": "worksheet-0",
    "slideshow": {
     "slide_type": "-"
    }
   },
   "outputs": [
    {
     "data": {
      "text/plain": [
       "     sepal_length  sepal_width  petal_length  petal_width     species\n2             4.7          3.2           1.3          0.2      setosa\n123           6.3          2.7           4.9          1.8   virginica\n32            5.2          4.1           1.5          0.1      setosa\n17            5.1          3.5           1.4          0.3      setosa\n90            5.5          2.6           4.4          1.2  versicolor\n81            5.5          2.4           3.7          1.0  versicolor\n145           6.7          3.0           5.2          2.3   virginica\n136           6.3          3.4           5.6          2.4   virginica\n106           4.9          2.5           4.5          1.7   virginica\n118           7.7          2.6           6.9          2.3   virginica\n14            5.8          4.0           1.2          0.2      setosa\n122           7.7          2.8           6.7          2.0   virginica\n96            5.7          2.9           4.2          1.3  versicolor\n42            4.4          3.2           1.3          0.2      setosa\n18            5.7          3.8           1.7          0.3      setosa"
      ]
     },
     "execution_count": 3,
     "metadata": {},
     "output_type": "execute_result"
    }
   ],
   "source": [
    "iris = sns.load_dataset(\"iris\")\n",
    "iris.sample(frac=0.1)"
   ]
  },
  {
   "cell_type": "markdown",
   "metadata": {
    "ein.tags": "worksheet-0",
    "slideshow": {
     "slide_type": "-"
    }
   },
   "source": [
    "Now we can have a look at the distribution of the data;\n",
    "for example the \"sepal_length\" column and how the distributions compare across species"
   ]
  },
  {
   "cell_type": "code",
   "execution_count": 4,
   "metadata": {
    "autoscroll": false,
    "collapsed": false,
    "ein.hycell": false,
    "ein.tags": "worksheet-0",
    "slideshow": {
     "slide_type": "-"
    }
   },
   "outputs": [
    {
     "data": {
      "text/plain": [
       "array([[<matplotlib.axes._subplots.AxesSubplot object at 0x7fb8aea407b8>,\n        <matplotlib.axes._subplots.AxesSubplot object at 0x7fb8aca19668>],\n       [<matplotlib.axes._subplots.AxesSubplot object at 0x7fb8ac9b6080>,\n        <matplotlib.axes._subplots.AxesSubplot object at 0x7fb8ac9cdb00>]],\n      dtype=object)"
      ]
     },
     "execution_count": 4,
     "metadata": {},
     "output_type": "execute_result"
    },
    {
     "data": {
      "image/png": "[encoded data removed]",
      "text/plain": [
       "<Figure size 432x288 with 4 Axes>"
      ]
     },
     "metadata": {},
     "output_type": "display_data"
    }
   ],
   "source": [
    "iris.hist(by=\"species\", column=\"sepal_length\",\n",
    "          edgecolor='black', linewidth=1.2)"
   ]
  },
  {
   "cell_type": "markdown",
   "metadata": {
    "ein.tags": "worksheet-0",
    "slideshow": {
     "slide_type": "-"
    }
   },
   "source": [
    "Before we can start testing these groups for statistical differences, we need to\n",
    "check if the data are normal first - scipy provides a function for this\n",
    "\n",
    "(We're only looking at setosa and versicolor for this example)"
   ]
  },
  {
   "cell_type": "code",
   "execution_count": 5,
   "metadata": {
    "autoscroll": false,
    "collapsed": false,
    "ein.hycell": false,
    "ein.tags": "worksheet-0",
    "slideshow": {
     "slide_type": "-"
    }
   },
   "outputs": [
    {
     "name": "stdout",
     "output_type": "stream",
     "text": [
      "setosa_sw is normal 0.91\n",
      "versicolor_sw is normal 0.66\n"
     ]
    }
   ],
   "source": [
    "setosa_sw = iris[iris[\"species\"] == \"setosa\"][\"sepal_length\"]\n",
    "versicolor_sw = iris[iris[\"species\"] == \"versicolor\"][\"sepal_length\"]\n",
    "\n",
    "k1, p1 = stats.normaltest(setosa_sw)\n",
    "k2, p2 = stats.normaltest(versicolor_sw)\n",
    "\n",
    "print(\"setosa_sw is normal {0:.2f}\\nversicolor_sw is normal {1:.2f}\".format(p1,p2))"
   ]
  },
  {
   "cell_type": "markdown",
   "metadata": {
    "ein.tags": "worksheet-0",
    "slideshow": {
     "slide_type": "-"
    }
   },
   "source": [
    "Finally a student's ttest can be used, with assumed normality, to check if these two groups\n",
    "are statistically different. "
   ]
  },
  {
   "cell_type": "code",
   "execution_count": 6,
   "metadata": {
    "autoscroll": false,
    "collapsed": false,
    "ein.hycell": false,
    "ein.tags": "worksheet-0",
    "slideshow": {
     "slide_type": "-"
    }
   },
   "outputs": [
    {
     "name": "stdout",
     "output_type": "stream",
     "text": [
      "A t-test for Setosa_sw and Versicolor_sw gives a p-value = 8.985235037487079e-18\n"
     ]
    }
   ],
   "source": [
    "t, p = stats.ttest_ind(setosa_sw, versicolor_sw)\n",
    "print(\"A t-test for Setosa_sw and Versicolor_sw gives a p-value = {0}\".format(p))"
   ]
  },
  {
   "cell_type": "markdown",
   "metadata": {
    "ein.tags": "worksheet-0",
    "slideshow": {
     "slide_type": "-"
    }
   },
   "source": [
    "This allows us to reject the null-hypothesis, that these two groups are similar"
   ]
  }
 ],
 "metadata": {
  "kernelspec": {
   "display_name": "Python 3",
   "name": "python3"
  },
  "name": "a-brief-look-at-literate-programming-for-scientific-analysis.ipynb",
  "nikola": {
   "category": "programming",
   "date": "2018-06-13 11:36:07 UTC+01:00",
   "description": "A few examples of using literate programming for data science reports",
   "link": "",
   "slug": "a-brief-look-at-literate-programming-for-scientific-analysis",
   "tags": "python, data, science",
   "title": "A brief look at literate programming for scientific analysis",
   "type": "text"
  }
 },
 "nbformat": 4,
 "nbformat_minor": 2
}
